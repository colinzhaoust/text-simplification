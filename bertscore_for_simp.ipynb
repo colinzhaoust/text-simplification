{
 "cells": [
  {
   "cell_type": "code",
   "execution_count": null,
   "metadata": {},
   "outputs": [],
   "source": [
    "from SARI import *"
   ]
  },
  {
   "cell_type": "code",
   "execution_count": 2,
   "metadata": {},
   "outputs": [
    {
     "name": "stdout",
     "output_type": "stream",
     "text": [
      "0.2682782411698074\n",
      "0.5889995423074248\n",
      "0.5071608864657479\n"
     ]
    }
   ],
   "source": [
    "# examples\n",
    "ssent = \"About 95 species are currently accepted .\"\n",
    "csent1 = \"About 95 you now get in .\"\n",
    "csent2 = \"About 95 species are now agreed .\"\n",
    "csent3 = \"About 95 species are currently agreed .\"\n",
    "rsents = [\"About 95 species are currently known .\", \"About 95 species are now accepted .\", \"95 species are now accepted .\"]\n",
    "\n",
    "print(SARIsent(ssent, csent1, rsents))\n",
    "print(SARIsent(ssent, csent2, rsents))\n",
    "print(SARIsent(ssent, csent3, rsents))"
   ]
  },
  {
   "cell_type": "code",
   "execution_count": null,
   "metadata": {},
   "outputs": [],
   "source": []
  }
 ],
 "metadata": {
  "kernelspec": {
   "display_name": "Python 3",
   "language": "python",
   "name": "python3"
  },
  "language_info": {
   "codemirror_mode": {
    "name": "ipython",
    "version": 3
   },
   "file_extension": ".py",
   "mimetype": "text/x-python",
   "name": "python",
   "nbconvert_exporter": "python",
   "pygments_lexer": "ipython3",
   "version": "3.6.5"
  }
 },
 "nbformat": 4,
 "nbformat_minor": 2
}
