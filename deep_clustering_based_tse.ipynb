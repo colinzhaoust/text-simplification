{
 "cells": [
  {
   "cell_type": "code",
   "execution_count": 8,
   "metadata": {},
   "outputs": [],
   "source": [
    "import json\n",
    "import random\n",
    "import logging\n",
    "import os\n",
    "\n",
    "import pandas as pd\n",
    "import numpy as np\n",
    "from nltk.tokenize import word_tokenize\n",
    "from sklearn.decomposition import PCA\n",
    "import seaborn as sns\n",
    "from scipy import spatial\n",
    "\n",
    "import torch\n",
    "from torch.nn.utils.rnn import pad_sequence\n",
    "import torch.nn.functional as F\n",
    "\n",
    "from transformers import *\n",
    "from transformers import AutoTokenizer\n",
    "\n",
    "import transformers\n",
    "from bert_score import score\n",
    "\n",
    "transformers.tokenization_utils.logger.setLevel(logging.ERROR)\n",
    "transformers.configuration_utils.logger.setLevel(logging.ERROR)\n",
    "transformers.modeling_utils.logger.setLevel(logging.ERROR)"
   ]
  },
  {
   "cell_type": "code",
   "execution_count": 9,
   "metadata": {},
   "outputs": [],
   "source": [
    "# loading datasets\n",
    "with open(\"./wikilarge.json\", encoding=\"utf-8\") as f:\n",
    "    wikilarge = json.load(f)"
   ]
  },
  {
   "cell_type": "code",
   "execution_count": 10,
   "metadata": {},
   "outputs": [
    {
     "name": "stdout",
     "output_type": "stream",
     "text": [
      "{'input': 'It was originally thought that the debris thrown up by the collision filled in the smaller craters .', 'reference': ['It was thought that the debris thrown up by the collision filled the smaller craters.', 'Originally, it was thought that smaller craters were filled in with debris from the collision.', 'It was originally thought that the debris thrown up by the crash filled in the smaller craters.', 'Originally people thought that the debris thrown up by the collision filled in the smaller craters.', 'It was originally thought that the scattered remains of the collission filled the smaller circulare depressions in the ground.', 'In the beginning, it was thought that the pieces thrown up by the crash filled in the smaller holes.', 'It was originally thought that the debris thrown up by the collision filled in the smaller craters .', 'It was originally thought that the debris thrown up by the collision filled in the smaller craters .']}\n"
     ]
    }
   ],
   "source": [
    "print(wikilarge[11])"
   ]
  },
  {
   "cell_type": "code",
   "execution_count": 11,
   "metadata": {},
   "outputs": [],
   "source": [
    "# generating adversarial\n",
    "def drop_noise(targets, drop_ratio):\n",
    "    # drop_ratio = 0.1, see https://arxiv.org/pdf/1711.00043.pdf\n",
    "    drop_set = []\n",
    "    \n",
    "    for target in targets:\n",
    "        temp = []\n",
    "        tokens = word_tokenize(target)\n",
    "        for token in tokens:\n",
    "            check = random.randint(0,10)\n",
    "            if check >= drop_ratio * 10:\n",
    "                temp.append(token)\n",
    "                \n",
    "        drop_set.append(\" \".join(temp))\n",
    "    \n",
    "    return drop_set\n",
    "        \n",
    "\n",
    "def addition_noise(targets, dataset, ext_ratio):\n",
    "    # ext_ratio = [0.4, 0.6]\n",
    "    # see sentence compression work @ https://www.aclweb.org/anthology/K18-1040.pdf\n",
    "    add_set = []\n",
    "    \n",
    "    for target in targets:\n",
    "        tokens = word_tokenize(target)\n",
    "        temp = tokens\n",
    "        sample_len = int(len(tokens)*random.randint(40, 60)/100)\n",
    "        for i in range(sample_len):\n",
    "            sent_ind = random.randint(0, len(dataset)-1)\n",
    "            ext_sent = dataset[0]\n",
    "            ext_tokens = word_tokenize(ext_sent)\n",
    "            ext_token = ext_tokens[random.randint(0, len(ext_tokens)-1)]\n",
    "            temp.append(ext_token)\n",
    "            \n",
    "        add_set.append(\" \".join(temp))\n",
    "        \n",
    "    return add_set\n",
    "\n",
    "\n",
    "def shuffle_noise(targets, keep_num):\n",
    "    # keep_num = 3, see https://arxiv.org/pdf/1711.00043.pdf\n",
    "    shuffle_set = []\n",
    "    \n",
    "    for target in targets:\n",
    "        tokens = word_tokenize(target)\n",
    "        this_keep_num = keep_num - 1\n",
    "        while this_keep_num < keep_num:\n",
    "            new_tokens = tokens\n",
    "            random.shuffle(new_tokens)\n",
    "            count = 0\n",
    "            if len(tokens) < keep_num:\n",
    "                break\n",
    "            \n",
    "            for i, tok in enumerate(tokens):\n",
    "                if tok == new_tokens[i]:\n",
    "                    count += 1\n",
    "                    \n",
    "            this_keep_num = count\n",
    "            \n",
    "        shuffle_set.append(\" \".join(new_tokens))\n",
    "        \n",
    "    return shuffle_set\n",
    "\n",
    "\n",
    "def substitution_noise(targets, simpleppdb, threshold):\n",
    "    # todo\n",
    "    return True"
   ]
  },
  {
   "cell_type": "code",
   "execution_count": 12,
   "metadata": {},
   "outputs": [
    {
     "name": "stdout",
     "output_type": "stream",
     "text": [
      "['It was originally thought that the debris thrown up by the collision filled in the smaller craters .']\n",
      "['It thought that the debris thrown by the smaller .']\n",
      "['It was originally thought that the debris thrown up by the collision filled in the smaller craters . composed One armed of Sudan conflicts . composed militia']\n",
      "['smaller in originally by It debris thought the the craters . up the that collision filled thrown was']\n"
     ]
    }
   ],
   "source": [
    "allsents = []\n",
    "for datapiece in wikilarge[:100]:\n",
    "    allsents.append(datapiece[\"input\"])\n",
    "    for ref_sent in datapiece[\"reference\"]:\n",
    "        allsents.append(ref_sent)\n",
    "        \n",
    "targets = [wikilarge[11][\"input\"]]\n",
    "print(targets)\n",
    "print(drop_noise(targets, 0.3))\n",
    "print(addition_noise(targets, allsents, [0.4, 0.6]))\n",
    "print(shuffle_noise(targets, keep_num=3))"
   ]
  },
  {
   "cell_type": "code",
   "execution_count": 13,
   "metadata": {},
   "outputs": [],
   "source": [
    "# create deep representation\n",
    "class BertEncoder(BertModel):\n",
    "    # here we use the average, we could also use the CLS token\n",
    "    def __init__(self, config):\n",
    "        super(BertModel, self).__init__(config)\n",
    "        self.lm = BertModel(config)\n",
    "        # self.embedding_size = 300\n",
    "\n",
    "    def forward(self, sents):\n",
    "        # forwarding the sents and use the average embedding as the results\n",
    "\n",
    "        representation  = self.lm(sents) #.unsqueeze(0)) # num_sent * sent_len * emb\n",
    "        # print(representation[0].size)\n",
    "        sent_representation = torch.mean(representation[0], dim=1) # num_sent * emb\n",
    "        # print(sent_representation.shape)\n",
    "        # overall_representation = torch.mean(sent_representation, dim=0) # 1 *  emb\n",
    "        # output size: 1024\n",
    "\n",
    "        return sent_representation\n",
    "\n",
    "def encode_sents(sents, tokenizer, model):\n",
    "    # we do not use batch since the length might vary a lot\n",
    "    device = torch.device(\"cuda\" if torch.cuda.is_available() else \"cpu\")\n",
    "    output = []\n",
    "    # TODO, change to batches\n",
    "    for sent in sents:\n",
    "        # encoding\n",
    "        batch = tokenizer.encode(sent, add_special_tokens=True, return_tensors=\"pt\")\n",
    "\n",
    "        # examples = torch.tensor(tokenized_sents).to(device)\n",
    "        hiddens = model(batch).detach().numpy()\n",
    "        output.extend(hiddens)\n",
    "    \n",
    "    return output"
   ]
  },
  {
   "cell_type": "code",
   "execution_count": 14,
   "metadata": {},
   "outputs": [
    {
     "data": {
      "application/vnd.jupyter.widget-view+json": {
       "model_id": "20ecf61faeb74c0eb7bc091bc95e1e9a",
       "version_major": 2,
       "version_minor": 0
      },
      "text/plain": [
       "HBox(children=(HTML(value='Downloading'), FloatProgress(value=0.0, max=1344997306.0), HTML(value='')))"
      ]
     },
     "metadata": {},
     "output_type": "display_data"
    },
    {
     "name": "stdout",
     "output_type": "stream",
     "text": [
      "\n"
     ]
    }
   ],
   "source": [
    "config = \"bert-large-uncased\"\n",
    "tokenizer = AutoTokenizer.from_pretrained(config)\n",
    "bert = BertEncoder.from_pretrained(config)"
   ]
  },
  {
   "cell_type": "code",
   "execution_count": 36,
   "metadata": {},
   "outputs": [
    {
     "name": "stdout",
     "output_type": "stream",
     "text": [
      "[array([ 1.0965388 ,  0.95151126,  0.85436314, ..., -0.4808751 ,\n",
      "        2.4612558 , -0.1997606 ], dtype=float32)]\n"
     ]
    }
   ],
   "source": [
    "selection = 11\n",
    "\n",
    "targets = [wikilarge[selection][\"input\"]]\n",
    "hiddens = encode_sents(targets, tokenizer,bert)\n",
    "print(hiddens)\n",
    "refs = wikilarge[selection][\"reference\"]\n",
    "ref_hiddens = encode_sents(refs, tokenizer,bert)\n",
    "\n",
    "noise = []\n",
    "noise.extend(drop_noise(targets, 0.3))\n",
    "noise.extend(addition_noise(targets, allsents, [0.4, 0.6]))\n",
    "noise.extend(shuffle_noise(targets, keep_num=3))\n",
    "\n",
    "# noise.extend(drop_noise(refs, 0.3))\n",
    "# noise.extend(addition_noise(refs, allsents, [0.4, 0.6]))\n",
    "# noise.extend(shuffle_noise(refs, keep_num=3))\n",
    "\n",
    "noise_hiddens = encode_sents(noise, tokenizer, bert)"
   ]
  },
  {
   "cell_type": "code",
   "execution_count": 37,
   "metadata": {},
   "outputs": [
    {
     "name": "stdout",
     "output_type": "stream",
     "text": [
      "Checking Input\n",
      "Input vs Reference\n",
      "Average:  0.9915816932916641\n",
      "Input vs Noise\n",
      "Average:  0.9849029978116354\n"
     ]
    }
   ],
   "source": [
    "# checking cosine dist\n",
    "print(\"Checking Input\")\n",
    "for hidden in hiddens:\n",
    "    print(\"Input vs Reference\")\n",
    "    avg = []\n",
    "    for ref_hidden in ref_hiddens:\n",
    "        score = 1 - spatial.distance.cosine(hidden, ref_hidden)\n",
    "        avg.append(score)\n",
    "        # print(score)\n",
    "    print(\"Average: \", np.mean(avg))\n",
    "        \n",
    "    print(\"Input vs Noise\")\n",
    "    avg = []\n",
    "    for noise_hidden in noise_hiddens:\n",
    "        score = 1 - spatial.distance.cosine(hidden, noise_hidden)\n",
    "        avg.append(score)\n",
    "        # print(score)\n",
    "    print(\"Average: \", np.mean(avg))"
   ]
  },
  {
   "cell_type": "code",
   "execution_count": 38,
   "metadata": {},
   "outputs": [
    {
     "name": "stdout",
     "output_type": "stream",
     "text": [
      "[0.31934315 0.20394233]\n",
      "[4.88404522 3.11910109]\n"
     ]
    }
   ],
   "source": [
    "# PCA and visualization\n",
    "X = []\n",
    "X.extend(hiddens)\n",
    "X.extend(ref_hiddens)\n",
    "X.extend(noise_hiddens)\n",
    "\n",
    "sub_X = []\n",
    "for vec in X:\n",
    "    sub_X.append(vec-hiddens[0])\n",
    "\n",
    "# X.append(np.mean(hiddens, axis=0))\n",
    "# X.append(np.mean(ref_hiddens, axis=0))\n",
    "# X.append(np.mean(noise_hiddens, axis=0))\n",
    "\n",
    "X_ref = [] #[\"Input\", \"Reference\", \"Hidden\"]\n",
    "for i in range(len(hiddens)):\n",
    "    X_ref.append(\"Input\")\n",
    "for i in range(len(ref_hiddens)):\n",
    "    X_ref.append(\"Reference\")\n",
    "for i in range(len(noise_hiddens)):\n",
    "    X_ref.append(\"Noise\")\n",
    "    \n",
    "    \n",
    "pca = PCA(n_components=2)\n",
    "pca.fit(sub_X)\n",
    "print(pca.explained_variance_ratio_)\n",
    "print(pca.explained_variance_)"
   ]
  },
  {
   "cell_type": "code",
   "execution_count": 39,
   "metadata": {},
   "outputs": [
    {
     "data": {
      "text/plain": [
       "<matplotlib.axes._subplots.AxesSubplot at 0x7f63bd27b860>"
      ]
     },
     "execution_count": 39,
     "metadata": {},
     "output_type": "execute_result"
    },
    {
     "data": {
      "image/png": "[encoded data removed]",
      "text/plain": [
       "<Figure size 432x288 with 1 Axes>"
      ]
     },
     "metadata": {
      "needs_background": "light"
     },
     "output_type": "display_data"
    }
   ],
   "source": [
    "X_new = pca.transform(sub_X)\n",
    "\n",
    "lst = []\n",
    "for i, vec in enumerate(X_new):\n",
    "    lst.append([vec[0], vec[1], X_ref[i]])\n",
    "        \n",
    "df = pd.DataFrame(lst, columns=[\"x\", \"y\", \"type\"])\n",
    "\n",
    "sns.scatterplot(data=df, x=\"x\", y=\"y\", hue=\"type\")"
   ]
  },
  {
   "cell_type": "code",
   "execution_count": null,
   "metadata": {},
   "outputs": [],
   "source": [
    "# training"
   ]
  },
  {
   "cell_type": "code",
   "execution_count": null,
   "metadata": {},
   "outputs": [],
   "source": []
  }
 ],
 "metadata": {
  "kernelspec": {
   "display_name": "Python 3",
   "language": "python",
   "name": "python3"
  },
  "language_info": {
   "codemirror_mode": {
    "name": "ipython",
    "version": 3
   },
   "file_extension": ".py",
   "mimetype": "text/x-python",
   "name": "python",
   "nbconvert_exporter": "python",
   "pygments_lexer": "ipython3",
   "version": "3.6.5"
  }
 },
 "nbformat": 4,
 "nbformat_minor": 2
}
